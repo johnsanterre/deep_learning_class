{
 "cells": [
  {
   "cell_type": "markdown",
   "metadata": {},
   "source": [
    "# Feed Forward Neural Network Implementation Comparison\n",
    "\n",
    "This notebook demonstrates the implementation of a simple neural network using three different approaches:\n",
    "1. NumPy (from scratch)\n",
    "2. TensorFlow/Keras\n",
    "3. PyTorch\n",
    "\n",
    "We'll use the same XOR-like problem for all implementations."
   ]
  },
  {
   "cell_type": "code",
   "execution_count": null,
   "metadata": {},
   "source": [
    "import numpy as np\n",
    "\n",
    "# Data preparation\n",
    "X = np.array([[0,0,1],[0,1,1],[1,0,1],[1,1,1]])\n",
    "y = np.array([[0,1,1,0]]).T\n",
    "\n",
    "print(\"Input data shape:\", X.shape)\n",
    "print(\"Target data shape:\", y.shape)"
   ]
  },
  {
   "cell_type": "markdown",
   "metadata": {},
   "source": [
    "## 1. NumPy Implementation\n",
    "A basic neural network implementation using only NumPy. This implementation includes:\n",
    "- Two layer neural network\n",
    "- Sigmoid activation\n",
    "- Backpropagation"
   ]
  },
  {
   "cell_type": "code",
   "execution_count": null,
   "metadata": {},
   "source": [
    "# Initialize weights\n",
    "syn0 = 2*np.random.random((3,4)) - 1\n",
    "syn1 = 2*np.random.random((4,1)) - 1\n",
    "\n",
    "# Training loop\n",
    "for j in range(350):\n",
    "    # Forward propagation\n",
    "    l1 = 1/(1+np.exp(-(np.dot(X,syn0))))\n",
    "    l2 = 1/(1+np.exp(-(np.dot(l1,syn1))))\n",
    "    \n",
    "    # Backward propagation\n",
    "    l2_delta = (y - l2)*(l2*(1-l2))\n",
    "    l1_delta = l2_delta.dot(syn1.T) * (l1 * (1-l1))\n",
    "    \n",
    "    # Update weights\n",
    "    syn1 += l1.T.dot(l2_delta)*.3\n",
    "    syn0 += X.T.dot(l1_delta)\n",
    "\n",
    "print(\"NumPy Implementation Results:\")\n",
    "print(l2)"
   ]
  },
  {
   "cell_type": "markdown",
   "metadata": {},
   "source": [
    "## 2. TensorFlow/Keras Implementation\n",
    "The same network implemented using the high-level Keras API"
   ]
  },
  {
   "cell_type": "code",
   "execution_count": null,
   "metadata": {},
   "source": [
    "import tensorflow as tf\n",
    "\n",
    "# Create the model\n",
    "model = tf.keras.Sequential([\n",
    "    tf.keras.layers.Dense(4, activation='sigmoid', input_shape=(3,)),\n",
    "    tf.keras.layers.Dense(1, activation='sigmoid')\n",
    "])\n",
    "\n",
    "# Compile and train\n",
    "model.compile(optimizer=tf.keras.optimizers.SGD(learning_rate=1.), \n",
    "              loss='mean_squared_error')\n",
    "model.fit(X, y, epochs=1000, verbose=0)\n",
    "\n",
    "print(\"TensorFlow/Keras Results:\")\n",
    "print(model.predict(X))"
   ]
  },
  {
   "cell_type": "markdown",
   "metadata": {},
   "source": [
    "## 3. PyTorch Implementation\n",
    "The same network implemented using PyTorch"
   ]
  },
  {
   "cell_type": "code",
   "execution_count": null,
   "metadata": {},
   "source": [
    "import torch\n",
    "import torch.nn as nn\n",
    "import torch.optim as optim\n",
    "\n",
    "# Convert data to PyTorch tensors\n",
    "x_data = torch.tensor(X, dtype=torch.float32)\n",
    "y_data = torch.tensor(y, dtype=torch.float32)\n",
    "\n",
    "# Define the model\n",
    "class XORModel(nn.Module):\n",
    "    def __init__(self):\n",
    "        super(XORModel, self).__init__()\n",
    "        self.fc1 = nn.Linear(3, 4)\n",
    "        self.fc2 = nn.Linear(4, 1)\n",
    "        self.sigmoid = nn.Sigmoid()\n",
    "        \n",
    "    def forward(self, x):\n",
    "        x = self.sigmoid(self.fc1(x))\n",
    "        x = self.sigmoid(self.fc2(x))\n",
    "        return x\n",
    "\n",
    "# Initialize model and optimizer\n",
    "model = XORModel()\n",
    "optimizer = optim.SGD(model.parameters(), lr=1.)\n",
    "criterion = nn.MSELoss()\n",
    "\n",
    "# Training loop\n",
    "for epoch in range(3000):\n",
    "    optimizer.zero_grad()\n",
    "    output = model(x_data)\n",
    "    loss = criterion(output, y_data)\n",
    "    if epoch % 300 == 0:\n",
    "        print(f'Epoch {epoch}, Loss: {loss.item():.4f}')\n",
    "    loss.backward()\n",
    "    optimizer.step()\n",
    "\n",
    "# Test the model\n",
    "predictions = model(x_data).detach().numpy()\n",
    "\n",
    "print('\\nPyTorch Final Predictions:')\n",
    "for i in range(len(x_data)):\n",
    "    print(f'Input: {x_data[i].numpy()}, Output: {predictions[i][0]:.4f}')"
   ]
  }
 ],
 "metadata": {
  "kernelspec": {
   "display_name": "Python 3",
   "language": "python",
   "name": "python3"
  },
  "language_info": {
   "codemirror_mode": {
    "name": "ipython",
    "version": 3
   },
   "file_extension": ".py",
   "mimetype": "text/x-python",
   "name": "python",
   "nbconvert_exporter": "python",
   "pygments_lexer": "ipython3",
   "version": "3.8.0"
  }
 },
 "nbformat": 4,
 "nbformat_minor": 4
}